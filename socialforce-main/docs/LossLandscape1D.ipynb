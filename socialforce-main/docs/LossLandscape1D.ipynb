{
 "cells": [
  {
   "cell_type": "code",
   "execution_count": null,
   "metadata": {},
   "outputs": [],
   "source": [
    "%matplotlib inline\n",
    "%config InlineBackend.figure_format ='retina'\n",
    "\n",
    "import matplotlib.lines\n",
    "import numpy as np\n",
    "import socialforce"
   ]
  },
  {
   "cell_type": "markdown",
   "metadata": {},
   "source": [
    "[Sven Kreiss](https://www.svenkreiss.com), April 17 2020\n",
    "\n",
    "# Loss Landscape for 1D Predictions\n",
    "\n",
    "Purpose: study optimization stability.\n",
    "\n",
    "## One-Step Prediction"
   ]
  },
  {
   "cell_type": "code",
   "execution_count": null,
   "metadata": {},
   "outputs": [],
   "source": [
    "target = 1.0\n",
    "with socialforce.show.canvas(\n",
    "        'images/onedimensional_1pred.png',\n",
    "        nrows=2, gridspec_kw={'height_ratios': [1, 2]}, figsize=(6, 4),\n",
    ") as (ax1, ax2):\n",
    "    ax1.spines['left'].set_visible(False)\n",
    "    ax1.spines['right'].set_visible(False)\n",
    "    ax1.spines['top'].set_visible(False)\n",
    "    ax1.axes.get_yaxis().set_visible(False)\n",
    "    ax1.set_ylim(-0.1, 0.5)\n",
    "    ax1.set_xlim(-0.1, 2.1)\n",
    "    ax1.plot([0.0], [0.0], 'x', label='last ped position', markersize=5.0, color='grey')\n",
    "    ax1.plot([1.0], [0.0], 'o', label='true target position', markersize=5.0, color='grey')\n",
    "    ax1.plot([0.8], [0.0], 'o', label='predicted position', markersize=5.0, color='navy')\n",
    "    ax1.legend()\n",
    "\n",
    "    x = np.linspace(0.0, 2.0, 101)\n",
    "    loss_landscape = np.abs(x - target)\n",
    "    ax2.plot(x, loss_landscape, '-', label='1-step loss', color='navy')\n",
    "    ax2.legend()\n",
    "    ax2.set_xlabel('x [m]')\n",
    "    ax2.set_ylabel('loss value')"
   ]
  },
  {
   "cell_type": "markdown",
   "metadata": {},
   "source": [
    "## Two-Step Prediction"
   ]
  },
  {
   "cell_type": "code",
   "execution_count": null,
   "metadata": {},
   "outputs": [],
   "source": [
    "with socialforce.show.canvas('images/onedimensional_2pred_scenario.png', figsize=(6, 2.0)) as ax:\n",
    "    ax.axes.get_yaxis().set_visible(False)\n",
    "    ax.set_frame_on(False)\n",
    "    ax.set_ylim(-0.1, 0.5)\n",
    "    ax.set_xlim(-0.1, 2.1)\n",
    "    xmin, xmax = ax.get_xaxis().get_view_interval()\n",
    "    ymin, _ = ax.get_yaxis().get_view_interval()\n",
    "    ax.add_artist(matplotlib.lines.Line2D(\n",
    "        (xmin, xmax), (ymin, ymin), color='black', linewidth=2))\n",
    "\n",
    "    ax.plot([0.0], [0.0], 'x', label='last ped position', markersize=5.0, color='grey')\n",
    "    ax.plot([0.5], [0.0], 'o', label='true target position 1', markersize=2.5, color='grey')\n",
    "    ax.plot([0.8], [0.0], 'o', label='predicted position 1', markersize=2.5, color='orange')\n",
    "    ax.plot([1.0], [0.0], 'o', label='true target position 2', markersize=5.0, color='grey')\n",
    "    ax.plot([1.1], [0.0], 'o', label='predicted position 2', markersize=5.0, color='navy')\n",
    "    ax.legend()"
   ]
  },
  {
   "cell_type": "code",
   "execution_count": null,
   "metadata": {},
   "outputs": [],
   "source": [
    "target = 1.0\n",
    "x1 = np.linspace(0.0, 2.0, 101)\n",
    "x2 = np.linspace(-1.0, 1.0, 101)\n",
    "xx1, xx2 = np.meshgrid(x1, x2, sparse=True)\n",
    "\n",
    "def contourplot(ax, loss):\n",
    "    conditional_argx2 = np.argmin(loss, axis=0)\n",
    "    ax.plot(x1, x2[conditional_argx2], ls='dotted', color='black', label='conditional minimum')\n",
    "    ax.clabel(\n",
    "        ax.contour(x1, x2, loss, levels=np.linspace(0.1, 5.0, 50), vmax=1.0), \n",
    "        inline=1, fontsize=10)\n",
    "    ax.plot([0.5], [0.5], 'o', label='true target position', markersize=5.0, color='black')\n",
    "    ax.set_xlabel('$x_1$ [m]')\n",
    "    ax.set_ylabel('$x_2$ [m]')\n",
    "    ax.legend()"
   ]
  },
  {
   "cell_type": "code",
   "execution_count": null,
   "metadata": {},
   "outputs": [],
   "source": [
    "loss_fde_abs = np.abs(target - (xx1 + xx2))\n",
    "loss_fde_sq = np.square(target - (xx1 + xx2))\n",
    "with socialforce.show.canvas('images/onedimensional_2pred_fde.png', ncols=2, figsize=(8, 4)) as (ax1, ax2):\n",
    "    contourplot(ax1, loss_fde_abs)\n",
    "    contourplot(ax2, loss_fde_sq)"
   ]
  },
  {
   "cell_type": "code",
   "execution_count": null,
   "metadata": {},
   "outputs": [],
   "source": [
    "loss_ade_abs = 0.5 * np.abs(target/2.0 - xx1) + 0.5 * np.abs(target - (xx1 + xx2))\n",
    "loss_ade_sq = 0.5 * np.square(target/2.0 - xx1) + 0.5 * np.square(target - (xx1 + xx2))\n",
    "with socialforce.show.canvas('images/onedimensional_2pred_ade.png', ncols=2, figsize=(8, 4)) as (ax1, ax2):\n",
    "    contourplot(ax1, loss_ade_abs)\n",
    "    contourplot(ax2, loss_ade_sq)"
   ]
  },
  {
   "cell_type": "code",
   "execution_count": null,
   "metadata": {},
   "outputs": [],
   "source": [
    "loss_fdees_abs = 0.2 * np.abs(xx2 - xx1) + 0.8 * np.abs(target - (xx1 + xx2))\n",
    "loss_fdees_sq = 0.2 * np.square(xx2 - xx1) + 0.8 * np.square(target - (xx1 + xx2))\n",
    "with socialforce.show.canvas('images/onedimensional_2pred_fdees.png', ncols=2, figsize=(8, 4)) as (ax1, ax2):\n",
    "    contourplot(ax1, loss_fdees_abs)\n",
    "    contourplot(ax2, loss_fdees_sq)"
   ]
  },
  {
   "cell_type": "markdown",
   "metadata": {},
   "source": [
    "# Conclusion\n",
    "\n",
    "FDE is degenerate and therefore not great for optimization.\n",
    "\n",
    "ADE is non-degenerate. Loss landscape is distorted.\n",
    "\n",
    "FDE-CV (FDE with constant velocity) is a non-degenerate version of FDE. However, the constraint to constant velocity might not be too realistic and could be annealed.\n",
    "\n",
    "\n",
    "## Optimization Scenario\n",
    "\n",
    "Some Social Force simulations are unstable with a 0.4s (2.5FPS) timestep (see `opposing` experiments). It might be necessary to oversample by a factor of 4x, i.e., do three steps without a supervised annotation before the next supervision. The oversampled steps produce a loss landscale as in the FDE scenario. As ADE is not an option, a constant velocity regularization is necessary."
   ]
  },
  {
   "cell_type": "code",
   "execution_count": null,
   "metadata": {},
   "outputs": [],
   "source": []
  }
 ],
 "metadata": {
  "file_extension": ".py",
  "interpreter": {
   "hash": "29864609ce42acb949f1cb2f5c54bbb80a5cac9b20d76f096c9b799bd2af5ed7"
  },
  "kernelspec": {
   "display_name": "Python 3.9.6 64-bit ('venv3': venv)",
   "name": "python3"
  },
  "language_info": {
   "codemirror_mode": {
    "name": "ipython",
    "version": 3
   },
   "name": "python",
   "version": "3.9.6"
  },
  "mimetype": "text/x-python",
  "name": "python",
  "npconvert_exporter": "python",
  "pygments_lexer": "ipython3",
  "version": 3
 },
 "nbformat": 4,
 "nbformat_minor": 2
}
