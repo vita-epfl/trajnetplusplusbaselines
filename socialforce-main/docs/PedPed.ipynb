{
 "cells": [
  {
   "cell_type": "code",
   "execution_count": null,
   "metadata": {},
   "outputs": [],
   "source": [
    "%matplotlib inline\n",
    "%config InlineBackend.figure_format ='retina'\n",
    "\n",
    "import numpy as np\n",
    "import torch\n",
    "import socialforce"
   ]
  },
  {
   "cell_type": "markdown",
   "metadata": {},
   "source": [
    "[Sven Kreiss](https://www.svenkreiss.com), April 17 2020\n",
    "\n",
    "# PedPed Interactions\n",
    "\n",
    "Study pedestrian interactions of `socialforce.Simulator()`. \n",
    "\n",
    "## Two Pedestrians"
   ]
  },
  {
   "cell_type": "code",
   "execution_count": null,
   "metadata": {},
   "outputs": [],
   "source": [
    "states_crossing = socialforce.Simulator([\n",
    "    [0.0, 0.0, 0.5, 0.5, 10.0, 10.0],\n",
    "    [10.0, 0.3, -0.5, 0.5, 0.0, 10.0],\n",
    "]).run(45)"
   ]
  },
  {
   "cell_type": "code",
   "execution_count": null,
   "metadata": {},
   "outputs": [],
   "source": [
    "states_narrow_crossing = socialforce.Simulator([\n",
    "    [0.0, 0.0, 0.5, 0.5, 2.0, 10.0],\n",
    "    [2.0, 0.3, -0.5, 0.5, 0.0, 10.0],\n",
    "]).run(33)"
   ]
  },
  {
   "cell_type": "code",
   "execution_count": null,
   "metadata": {},
   "outputs": [],
   "source": [
    "with socialforce.show.track_canvas('images/pedped_crossing.png', ncols=2) as (ax1, ax2):\n",
    "    socialforce.show.states(ax1, states_crossing)\n",
    "    ax1.legend()\n",
    "\n",
    "    ax2.set_xlim(-0.3, 3.5)\n",
    "    socialforce.show.states(ax2, states_narrow_crossing)\n",
    "    ax2.legend()"
   ]
  },
  {
   "cell_type": "code",
   "execution_count": null,
   "metadata": {},
   "outputs": [],
   "source": [
    "states_opposing = socialforce.Simulator([\n",
    "    [0.0, 0.0, 0.0, 1.0, 0.0, 10.0],\n",
    "    [-0.3, 10.0, 0.0, -1.0, -0.3, 0.0],\n",
    "], delta_t=0.2).run(42)"
   ]
  },
  {
   "cell_type": "code",
   "execution_count": null,
   "metadata": {},
   "outputs": [],
   "source": [
    "states_two_opposing = socialforce.Simulator([\n",
    "    [0.0, 0.0, 0.0, 1.0, 0.0, 10.0],\n",
    "    [0.6, 10.0, 0.0, -1.0, 0.6, 0.0],\n",
    "    [2.0, 10.0, 0.0, -1.0, 2.0, 0.0],\n",
    "], delta_t=0.2).run(40)"
   ]
  },
  {
   "cell_type": "code",
   "execution_count": null,
   "metadata": {},
   "outputs": [],
   "source": [
    "with socialforce.show.track_canvas('images/pedped_opposing.png', ncols=2) as (ax1, ax2):\n",
    "    ax1.set_xlim(-1.2, 3.5)\n",
    "    socialforce.show.states(ax1, states_opposing)\n",
    "    ax1.legend()\n",
    "\n",
    "    socialforce.show.states(ax2, states_two_opposing)\n",
    "    ax2.legend()"
   ]
  }
 ],
 "metadata": {
  "file_extension": ".py",
  "interpreter": {
   "hash": "29864609ce42acb949f1cb2f5c54bbb80a5cac9b20d76f096c9b799bd2af5ed7"
  },
  "kernelspec": {
   "display_name": "Python 3.9.6 64-bit ('venv3': venv)",
   "name": "python3"
  },
  "language_info": {
   "codemirror_mode": {
    "name": "ipython",
    "version": 3
   },
   "name": "python",
   "version": "3.9.6"
  },
  "mimetype": "text/x-python",
  "name": "python",
  "npconvert_exporter": "python",
  "pygments_lexer": "ipython3",
  "version": 3
 },
 "nbformat": 4,
 "nbformat_minor": 2
}
