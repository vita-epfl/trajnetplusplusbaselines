{
 "cells": [
  {
   "cell_type": "code",
   "execution_count": null,
   "metadata": {},
   "outputs": [],
   "source": [
    "%matplotlib inline\n",
    "%config InlineBackend.figure_format ='retina'\n",
    "\n",
    "import math\n",
    "import random\n",
    "\n",
    "import numpy as np\n",
    "import pytest\n",
    "import torch\n",
    "import scipy.optimize\n",
    "import socialforce\n",
    "\n",
    "\n",
    "# OPTIMIZER_OPT = {'eps': 1e-4, 'gtol': 1e-4, 'maxcor': 30, 'maxls': 10, 'disp': True}\n",
    "OPTIMIZER_OPT = {'eps': 0.01, 'disp': True}"
   ]
  },
  {
   "cell_type": "markdown",
   "metadata": {},
   "source": [
    "[Sven Kreiss](https://www.svenkreiss.com), April 17 2020\n",
    "\n",
    "# Fit PedPed Potential"
   ]
  },
  {
   "cell_type": "code",
   "execution_count": null,
   "metadata": {},
   "outputs": [],
   "source": [
    "def visualize(file_prefix, V, initial_state_dict, final_state_dict, fit_result=None, V_gen=None):\n",
    "    b = np.linspace(0, 3, 200)\n",
    "    y_ref = 2.1 * np.exp(-1.0 * b / 0.3)\n",
    "    if V_gen is not None:\n",
    "        y_ref = V_gen.v0 * np.exp(-1.0 * b / V_gen.sigma)\n",
    "\n",
    "    V.load_state_dict(initial_state_dict)\n",
    "    y_initial = V.value_b(torch.from_numpy(b)).detach().numpy()\n",
    "    y_initial -= y_initial[-1]\n",
    "\n",
    "    V.load_state_dict(final_state_dict)\n",
    "    y_mlp = V.value_b(torch.from_numpy(b)).detach().numpy()\n",
    "    y_mlp -= y_mlp[-1]\n",
    "\n",
    "    with socialforce.show.canvas(file_prefix + 'v_gradv.png', ncols=2) as (ax1, ax2):\n",
    "        ax1.set_xlabel('$b$ [m]')\n",
    "        ax1.set_ylabel('$V$')\n",
    "        ax1.plot(b, y_ref, label=r'true $V_0 e^{-b/\\sigma}$', color='gray')\n",
    "        ax1.axvline(0.3, color='gray', linestyle='dotted', label=r'true $\\sigma$')\n",
    "        ax1.plot(b, y_initial, label=r'initial MLP($b$)',\n",
    "                linestyle='dashed', color='C0')\n",
    "        ax1.plot(b, y_mlp, label=r'MLP($b$)', color='C0')\n",
    "        ax1.legend()\n",
    "\n",
    "        ax2.set_xlabel(r'$b$ [m]')\n",
    "        ax2.set_ylabel(r'$\\nabla V$')\n",
    "        delta_b = b[1:] - b[:-1]\n",
    "        average_b = 0.5 * (b[:-1] + b[1:])\n",
    "        ax2.plot(average_b, (y_ref[1:] - y_ref[:-1]) / delta_b,\n",
    "                label=r'true $V_0 e^{-b/\\sigma}$', color='gray')\n",
    "        ax2.axvline(0.3, color='gray', linestyle='dotted', label=r'true $\\sigma$')\n",
    "        ax2.plot(average_b, (y_initial[1:] - y_initial[:-1]) / delta_b,\n",
    "                label=r'initial MLP($b$)',\n",
    "                linestyle='dashed', color='C0')\n",
    "        ax2.plot(average_b, (y_mlp[1:] - y_mlp[:-1]) / delta_b,\n",
    "                label=r'MLP($b$)', color='C0')\n",
    "        ax2.set_ylim(-4.9, 0.5)\n",
    "        ax2.legend()"
   ]
  },
  {
   "cell_type": "markdown",
   "metadata": {},
   "source": [
    "## Generate Truth for Opposing Scenario\n",
    "\n",
    "Left: $\\Delta t = 0.4s$  \n",
    "Right: $\\Delta t = 0.05s$"
   ]
  },
  {
   "cell_type": "code",
   "execution_count": null,
   "metadata": {},
   "outputs": [],
   "source": [
    "initial_state = [\n",
    "    [0.0, 0.0, 0.0, 1.0, 0.0, 10.0],\n",
    "    [-0.3, 10.0, 0.0, -1.0, -0.3, 0.0],\n",
    "]\n",
    "\n",
    "truth_nooversampling = socialforce.Simulator(initial_state, oversampling=1).run(21).detach()\n",
    "truth = socialforce.Simulator(initial_state).run(21).detach()\n",
    "\n",
    "with socialforce.show.track_canvas(ncols=2) as (ax1, ax2):\n",
    "    socialforce.show.states(ax1, truth_nooversampling)\n",
    "    socialforce.show.states(ax2, truth)"
   ]
  },
  {
   "cell_type": "markdown",
   "metadata": {},
   "source": [
    "## Fit a Potential with Manual Gradient Descent Implementation"
   ]
  },
  {
   "cell_type": "code",
   "execution_count": null,
   "metadata": {},
   "outputs": [],
   "source": [
    "# v0 = torch.tensor(1.2, dtype=torch.double, requires_grad=True)\n",
    "# sigma_v = torch.tensor(0.1, dtype=torch.double, requires_grad=True)\n",
    "# V = socialforce.PedPedPotential(v0, sigma_v)\n",
    "# initial_states = socialforce.Simulator(initial_state, ped_ped=V, oversampling=1).run(21)\n",
    "\n",
    "# for i_update in range(100):\n",
    "#     generated_states = socialforce.Simulator(initial_state, ped_ped=V, oversampling=1).run(21, detach=False)\n",
    "#     # generated_states = socialforce.Simulator(initial_state, ped_ped=V, oversampling=1, delta_t=0.04).run(210, detach=False)\n",
    "#     loss_l2 = (generated_states[1:, :, :2]-truth_nooversampling[1:, :, :2]).norm(dim=-1).sum()\n",
    "#     # loss_l2 = (generated_states[10::10, :, :2]-truth[1:, :, :2]).norm(dim=-1).sum()\n",
    "#     loss_constantv = (generated_states[2:, :, 2:4] - generated_states[1:-1, :, 2:4]).norm(dim=-1).sum()\n",
    "#     loss = loss_l2 + 0.0 * loss_constantv\n",
    "#     print('losses', loss, loss_l2, loss_constantv)\n",
    "\n",
    "#     v0_grad, sigma_grad = torch.autograd.grad(loss, [v0, sigma_v])\n",
    "\n",
    "#     lr = 0.05\n",
    "#     with torch.no_grad():\n",
    "#         v0 -= lr * v0_grad\n",
    "#         sigma_v -= lr * sigma_grad\n",
    "\n",
    "#     print('v0', v0, v0_grad)\n",
    "#     print('sigma', sigma_v, sigma_grad)\n",
    "\n",
    "# assert v0.item() == pytest.approx(2.1, abs=0.01)\n",
    "# assert sigma_v.item() == pytest.approx(0.3, abs=0.01)"
   ]
  },
  {
   "cell_type": "code",
   "execution_count": null,
   "metadata": {
    "tags": []
   },
   "outputs": [],
   "source": [
    "v0 = torch.tensor(1.2, dtype=torch.double, requires_grad=True)\n",
    "sigma_v = torch.tensor(0.1, dtype=torch.double, requires_grad=True)\n",
    "V = socialforce.PedPedPotential(v0, sigma_v)\n",
    "initial_states = socialforce.Simulator(initial_state, ped_ped=V).run(21).detach()\n",
    "\n",
    "for i_update in range(100):\n",
    "    generated_states = socialforce.Simulator(initial_state, ped_ped=V).run(21)\n",
    "    # generated_states = socialforce.Simulator(initial_state, ped_ped=V, oversampling=1, delta_t=0.04).run(210, detach=False)\n",
    "    loss = (generated_states[1:, :, :2]-truth[1:, :, :2]).norm(dim=-1).sum()\n",
    "\n",
    "    v0_grad, sigma_grad = torch.autograd.grad(loss, [v0, sigma_v])\n",
    "\n",
    "    lr = 0.3 \n",
    "    if i_update > 50:\n",
    "        lr = 0.03\n",
    "    elif i_update > 30:\n",
    "        lr = 0.1\n",
    "    with torch.no_grad():\n",
    "        v0 -= lr * v0_grad\n",
    "        sigma_v -= lr * sigma_grad\n",
    "\n",
    "    print(i_update, 'v0', lr, v0.item())\n",
    "    # print('sigma', sigma_v, sigma_grad)\n",
    "\n",
    "assert v0.item() == pytest.approx(2.1, abs=0.05)\n",
    "assert sigma_v.item() == pytest.approx(0.3, abs=0.03)"
   ]
  },
  {
   "cell_type": "code",
   "execution_count": null,
   "metadata": {},
   "outputs": [],
   "source": [
    "v0 = torch.tensor(1.2, dtype=torch.double, requires_grad=True)\n",
    "sigma_v = torch.tensor(0.1, dtype=torch.double, requires_grad=True)\n",
    "V = socialforce.PedPedPotential(v0, sigma_v)\n",
    "initial_states = socialforce.Simulator(initial_state, ped_ped=V).run(21).detach()\n",
    "\n",
    "for i_update in range(100):\n",
    "    generated_states = socialforce.Simulator(initial_state, ped_ped=V).run(21)\n",
    "    # generated_states = socialforce.Simulator(initial_state, ped_ped=V, oversampling=1, delta_t=0.04).run(210, detach=False)\n",
    "    losses = (generated_states[1:, :, :2]-truth[1:, :, :2]).norm(dim=-1)\n",
    "\n",
    "    # curriculum: shorter paths at the beginning\n",
    "    if i_update < 50:\n",
    "        losses = losses[:15]\n",
    "\n",
    "    loss = losses.sum()\n",
    "\n",
    "    v0_grad, sigma_grad = torch.autograd.grad(loss, [v0, sigma_v])\n",
    "\n",
    "    lr = 0.3 \n",
    "    if i_update > 50:\n",
    "        lr = 0.03\n",
    "    elif i_update > 30:\n",
    "        lr = 0.1\n",
    "    with torch.no_grad():\n",
    "        v0 -= lr * v0_grad\n",
    "        sigma_v -= lr * sigma_grad\n",
    "\n",
    "    print(i_update, 'v0', lr, v0.item())\n",
    "    # print('sigma', sigma_v, sigma_grad)\n",
    "\n",
    "assert v0.item() == pytest.approx(2.1, abs=0.05)\n",
    "assert sigma_v.item() == pytest.approx(0.3, abs=0.03)"
   ]
  },
  {
   "cell_type": "code",
   "execution_count": null,
   "metadata": {},
   "outputs": [],
   "source": [
    "final_states = socialforce.Simulator(initial_state, ped_ped=V).run(21).detach()\n",
    "with socialforce.show.track_canvas(ncols=2) as (ax1, ax2):\n",
    "    socialforce.show.states(ax1, truth, color='grey')\n",
    "    socialforce.show.states(ax1, initial_states)\n",
    "    socialforce.show.states(ax2, truth, color='grey')\n",
    "    socialforce.show.states(ax2, final_states)"
   ]
  },
  {
   "cell_type": "markdown",
   "metadata": {},
   "source": [
    "## Fit a Potential with Numerical Gradient Approximation with SciPy"
   ]
  },
  {
   "cell_type": "code",
   "execution_count": null,
   "metadata": {},
   "outputs": [],
   "source": [
    "v0 = torch.tensor(1.2, dtype=torch.double, requires_grad=True)\n",
    "sigma_v = torch.tensor(0.1, dtype=torch.double, requires_grad=True)\n",
    "V = socialforce.PedPedPotential(v0, sigma_v)\n",
    "initial_states = socialforce.Simulator(initial_state, ped_ped=V).run(21).detach()"
   ]
  },
  {
   "cell_type": "code",
   "execution_count": null,
   "metadata": {},
   "outputs": [],
   "source": [
    "def f(x):\n",
    "    V = socialforce.PedPedPotential(float(x[0]), float(x[1]))\n",
    "    with torch.no_grad():\n",
    "        return socialforce.Simulator(initial_state, ped_ped=V).run(21)\n",
    "\n",
    "def loss(x):\n",
    "    generated_states = f(x)\n",
    "    return (generated_states[1:, :, :2] - truth[1:, :, :2]).norm(dim=-1).sum()\n",
    "\n",
    "parameters = np.array([1.2, 0.1])\n",
    "res = scipy.optimize.minimize(loss, parameters, method='L-BFGS-B', options=OPTIMIZER_OPT)\n",
    "print(res)\n",
    "\n",
    "# assert res.x == pytest.approx(np.array([2.1, 0.3]), abs=0.01)\n",
    "assert res.fun < 0.05 * 20  # less than 5cm error on average over 20 steps"
   ]
  },
  {
   "cell_type": "code",
   "execution_count": null,
   "metadata": {},
   "outputs": [],
   "source": [
    "final_states = f(res.x)\n",
    "with socialforce.show.track_canvas(ncols=2) as (ax1, ax2):\n",
    "    socialforce.show.states(ax1, truth, color='grey')\n",
    "    socialforce.show.states(ax1, initial_states)\n",
    "    socialforce.show.states(ax2, truth, color='grey')\n",
    "    socialforce.show.states(ax2, final_states)"
   ]
  },
  {
   "cell_type": "markdown",
   "metadata": {},
   "source": [
    "# Fit an MLP Potential with Numerical Gradient with SciPy"
   ]
  },
  {
   "cell_type": "code",
   "execution_count": null,
   "metadata": {},
   "outputs": [],
   "source": [
    "torch.manual_seed(42)\n",
    "np.random.seed(42)\n",
    "\n",
    "V = socialforce.PedPedPotentialMLP().double()\n",
    "parameters = V.get_parameters().clone().detach().numpy()\n",
    "initial_parameters = parameters.copy()\n",
    "\n",
    "# training\n",
    "def f(x):\n",
    "    V.set_parameters(torch.from_numpy(x))\n",
    "    with torch.no_grad():\n",
    "        generated_states = socialforce.Simulator(initial_state, ped_ped=V).run(21)\n",
    "\n",
    "    loss = (generated_states[1:, :, :2] - truth[1:, :, :2]).norm(dim=-1).sum()\n",
    "\n",
    "    return loss\n",
    "\n",
    "res = scipy.optimize.minimize(f, parameters, method='L-BFGS-B', options=OPTIMIZER_OPT)\n",
    "print(res)"
   ]
  },
  {
   "cell_type": "code",
   "execution_count": null,
   "metadata": {},
   "outputs": [],
   "source": [
    "visualize('images/mlp_scipy_', V, initial_parameters, res.x)"
   ]
  },
  {
   "cell_type": "markdown",
   "metadata": {},
   "source": [
    "## Fitting to 1, 5 and 20 Circle Scenarios each with Two Pedestrians\n",
    "\n",
    "The preferred speed needs to be varied. Otherwise the symmetry of the problem creates unrealistic scenarios where the two pedestrians get stuck."
   ]
  },
  {
   "cell_type": "code",
   "execution_count": null,
   "metadata": {},
   "outputs": [],
   "source": [
    "def generate_gt(n):\n",
    "    torch.manual_seed(42)\n",
    "    np.random.seed(42)\n",
    "\n",
    "    # ped0 always left to right\n",
    "    ped0 = np.array([-5.0, 0.0, 1.0, 0.0, 5.0, 0.0])\n",
    "\n",
    "    generator_initial_states = []\n",
    "    for theta in np.random.rand(n) * 2.0 * math.pi:\n",
    "        # ped1 at a random angle with +/-20% speed variation\n",
    "        c, s = np.cos(theta), np.sin(theta)\n",
    "        r = np.array([[c, -s], [s, c]])\n",
    "        ped1 = np.concatenate((\n",
    "            np.matmul(r, ped0[0:2]),\n",
    "            np.matmul(r, ped0[2:4]) * (0.8 + np.random.rand(1) * 0.4),\n",
    "            np.matmul(r, ped0[4:6]),\n",
    "        ))\n",
    "        generator_initial_states.append(\n",
    "            np.stack((ped0, ped1))\n",
    "        )\n",
    "\n",
    "    generator_ped_ped = socialforce.PedPedPotential(2.1)\n",
    "    with torch.no_grad():\n",
    "        trajectories = [\n",
    "            socialforce.Simulator(initial_state, ped_ped=generator_ped_ped).run(21)\n",
    "            for initial_state in generator_initial_states\n",
    "        ]\n",
    "    return generator_ped_ped, trajectories\n",
    "\n",
    "generator_pedped_1, scenarios_1 = generate_gt(1)\n",
    "generator_pedped_5, scenarios_5 = generate_gt(5)\n",
    "generator_pedped_20, scenarios_20 = generate_gt(20)"
   ]
  },
  {
   "cell_type": "code",
   "execution_count": null,
   "metadata": {},
   "outputs": [],
   "source": [
    "with socialforce.show.track_canvas(ncols=3, figsize=(12, 4)) as (ax1, ax2, ax3):\n",
    "    socialforce.show.states(ax1, scenarios_1[0])\n",
    "\n",
    "    socialforce.show.states(ax2, scenarios_5[-1])\n",
    "    for scene in scenarios_5[:-1]:\n",
    "        socialforce.show.states(ax2, scene, alpha=0.1)\n",
    "\n",
    "    socialforce.show.states(ax3, scenarios_20[-1])\n",
    "    for scene in scenarios_20[:-1]:\n",
    "        socialforce.show.states(ax3, scene, alpha=0.1)"
   ]
  },
  {
   "cell_type": "code",
   "execution_count": null,
   "metadata": {},
   "outputs": [],
   "source": [
    "true_experience = socialforce.Trainer.scenes_to_experience(scenarios_1)\n",
    "V = socialforce.PedPedPotentialMLP().double()\n",
    "initial_parameters = V.state_dict()\n",
    "\n",
    "def simulator_factory(initial_state):\n",
    "    return socialforce.Simulator(initial_state, ped_ped=V)\n",
    "\n",
    "opt = torch.optim.SGD(V.parameters(), lr=10.0)\n",
    "socialforce.Trainer(simulator_factory, opt, true_experience, batch_size=1).loop(50)"
   ]
  },
  {
   "cell_type": "code",
   "execution_count": null,
   "metadata": {},
   "outputs": [],
   "source": [
    "# make plots of result\n",
    "visualize('images/mlp_circle_n{}_'.format(1), V, initial_parameters, V.state_dict(), V_gen=generator_pedped_1)"
   ]
  },
  {
   "cell_type": "code",
   "execution_count": null,
   "metadata": {},
   "outputs": [],
   "source": [
    "true_experience = socialforce.Trainer.scenes_to_experience(scenarios_5)\n",
    "V = socialforce.PedPedPotentialMLP().double()\n",
    "initial_parameters = V.state_dict()\n",
    "\n",
    "def simulator_factory(initial_state):\n",
    "    return socialforce.Simulator(initial_state, ped_ped=V)\n",
    "\n",
    "opt = torch.optim.SGD(V.parameters(), lr=1.0)\n",
    "socialforce.Trainer(simulator_factory, opt, true_experience, batch_size=1).loop(100)"
   ]
  },
  {
   "cell_type": "code",
   "execution_count": null,
   "metadata": {},
   "outputs": [],
   "source": [
    "visualize('images/mlp_circle_n{}_'.format(5), V, initial_parameters, V.state_dict(), V_gen=generator_pedped_5)"
   ]
  },
  {
   "cell_type": "code",
   "execution_count": null,
   "metadata": {},
   "outputs": [],
   "source": []
  }
 ],
 "metadata": {
  "file_extension": ".py",
  "kernelspec": {
   "display_name": "Python 3.8.6 64-bit",
   "metadata": {
    "interpreter": {
     "hash": "29864609ce42acb949f1cb2f5c54bbb80a5cac9b20d76f096c9b799bd2af5ed7"
    }
   },
   "name": "python3"
  },
  "language_info": {
   "codemirror_mode": {
    "name": "ipython",
    "version": 3
   },
   "file_extension": ".py",
   "mimetype": "text/x-python",
   "name": "python",
   "nbconvert_exporter": "python",
   "pygments_lexer": "ipython3",
   "version": "3.8.6"
  },
  "mimetype": "text/x-python",
  "name": "python",
  "npconvert_exporter": "python",
  "pygments_lexer": "ipython3",
  "version": 3
 },
 "nbformat": 4,
 "nbformat_minor": 2
}
