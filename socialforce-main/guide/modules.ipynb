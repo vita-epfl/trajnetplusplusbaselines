{
 "cells": [
  {
   "cell_type": "markdown",
   "metadata": {},
   "source": [
    "# Modules\n",
    "\n",
    "## Integrators\n",
    "\n",
    "```{eval-rst}\n",
    ".. autoclass:: socialforce.simulator.EulerIntegrator\n",
    "    :members:\n",
    "\n",
    ".. autoclass:: socialforce.simulator.LeapfrogIntegrator\n",
    "    :members:\n",
    "```"
   ]
  },
  {
   "cell_type": "markdown",
   "metadata": {},
   "source": [
    "## Potentials\n",
    "\n",
    "```{eval-rst}\n",
    ".. autoclass:: socialforce.potentials.PedPedPotential\n",
    "    :members:\n",
    "```"
   ]
  }
 ],
 "metadata": {
  "kernelspec": {
   "display_name": "Python 3.8.6 64-bit",
   "metadata": {
    "interpreter": {
     "hash": "29864609ce42acb949f1cb2f5c54bbb80a5cac9b20d76f096c9b799bd2af5ed7"
    }
   },
   "name": "python3"
  },
  "language_info": {
   "name": "python",
   "nbconvert_exporter": "python",
   "version": "3.8.6"
  }
 },
 "nbformat": 4,
 "nbformat_minor": 2
}
