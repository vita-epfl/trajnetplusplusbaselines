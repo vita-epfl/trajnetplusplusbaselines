{
 "cells": [
  {
   "cell_type": "code",
   "execution_count": null,
   "metadata": {
    "tags": [
     "remove-cell"
    ]
   },
   "outputs": [],
   "source": [
    "%matplotlib inline\n",
    "%config InlineBackend.figure_format ='retina'\n",
    "\n",
    "import IPython\n",
    "import torch\n",
    "import socialforce"
   ]
  },
  {
   "cell_type": "markdown",
   "metadata": {},
   "source": [
    "(scenarios)=\n",
    "# Scenarios\n",
    "\n",
    "We have a few synthetic scenarios. They are generated with parametric potentials.\n",
    "Here, we use the standard Social Force potential for the pedestrian-pedestrian interaction:"
   ]
  },
  {
   "cell_type": "code",
   "execution_count": null,
   "metadata": {},
   "outputs": [],
   "source": [
    "ped_ped = socialforce.potentials.PedPedPotential()"
   ]
  },
  {
   "cell_type": "markdown",
   "metadata": {},
   "source": [
    "\n",
    "## Circle\n",
    "\n",
    "The preferred speed needs to be varied. Otherwise the symmetry of the problem creates unrealistic scenarios where the two pedestrians get stuck."
   ]
  },
  {
   "cell_type": "code",
   "execution_count": null,
   "metadata": {},
   "outputs": [],
   "source": [
    "circle = socialforce.scenarios.Circle(ped_ped=ped_ped)\n",
    "\n",
    "_ = torch.manual_seed(42)\n",
    "scenarios_1 = circle.generate(1)\n",
    "\n",
    "_ = torch.manual_seed(42)\n",
    "scenarios_5 = circle.generate(5)\n",
    "\n",
    "_ = torch.manual_seed(42)\n",
    "scenarios_20 = circle.generate(20)"
   ]
  },
  {
   "cell_type": "code",
   "execution_count": null,
   "metadata": {
    "tags": [
     "hide-input"
    ]
   },
   "outputs": [],
   "source": [
    "# HIDE CODE\n",
    "with socialforce.show.track_canvas(ncols=3, figsize=(12, 4)) as (ax1, ax2, ax3):\n",
    "    socialforce.show.states(ax1, scenarios_1[0])\n",
    "\n",
    "    socialforce.show.states(ax2, scenarios_5[-1], zorder=10)\n",
    "    for scene in scenarios_5[:-1]:\n",
    "        socialforce.show.states(ax2, scene, alpha=0.1)\n",
    "\n",
    "    socialforce.show.states(ax3, scenarios_20[-1], zorder=10)\n",
    "    for scene in scenarios_20[:-1]:\n",
    "        socialforce.show.states(ax3, scene, alpha=0.1)"
   ]
  },
  {
   "cell_type": "markdown",
   "metadata": {},
   "source": [
    "Pedestrian 0 is the one with start and end position on the $x_1$ axis:"
   ]
  },
  {
   "cell_type": "code",
   "execution_count": null,
   "metadata": {
    "tags": [
     "hide-input"
    ]
   },
   "outputs": [],
   "source": [
    "# HIDE CODE\n",
    "circle.simulator = socialforce.Simulator(ped_ped=circle.ped_ped, delta_t=0.08, oversampling=2) \n",
    "\n",
    "_ = torch.manual_seed(42)\n",
    "scenarios_5 = circle.generate(5, steps_per_scenario=105)\n",
    "\n",
    "with socialforce.show.track_canvas(figsize=(6, 4), tight_layout=False, show=False, dpi=130) as ax:\n",
    "    ax.set_xlim(-5, 5) \n",
    "    video = socialforce.show.state_animation(ax, scenarios_5[-1], delta_t=0.08, show_speed=True).to_html5_video()\n",
    "IPython.display.HTML(video)\n"
   ]
  },
  {
   "cell_type": "markdown",
   "metadata": {},
   "source": [
    "## ParallelOvertake"
   ]
  },
  {
   "cell_type": "code",
   "execution_count": null,
   "metadata": {},
   "outputs": [],
   "source": [
    "parallel = socialforce.scenarios.ParallelOvertake(ped_ped=ped_ped)\n",
    "\n",
    "_ = torch.manual_seed(42)\n",
    "scenarios_1 = parallel.generate(1)\n",
    "\n",
    "_ = torch.manual_seed(42)\n",
    "scenarios_5 = parallel.generate(5)\n",
    "\n",
    "_ = torch.manual_seed(42)\n",
    "scenarios_20 = parallel.generate(20)"
   ]
  },
  {
   "cell_type": "code",
   "execution_count": null,
   "metadata": {
    "tags": [
     "hide-input"
    ]
   },
   "outputs": [],
   "source": [
    "# HIDE CODE\n",
    "with socialforce.show.track_canvas(ncols=3, figsize=(12, 4)) as (ax1, ax2, ax3):\n",
    "    socialforce.show.states(ax1, scenarios_1[0])\n",
    "\n",
    "    socialforce.show.states(ax2, scenarios_5[-1], zorder=10)\n",
    "    for scene in scenarios_5[:-1]:\n",
    "        socialforce.show.states(ax2, scene, alpha=0.1)\n",
    "\n",
    "    socialforce.show.states(ax3, scenarios_20[-1], zorder=10)\n",
    "    for scene in scenarios_20[:-1]:\n",
    "        socialforce.show.states(ax3, scene, alpha=0.1)\n"
   ]
  },
  {
   "cell_type": "code",
   "execution_count": null,
   "metadata": {},
   "outputs": [],
   "source": []
  }
 ],
 "metadata": {
  "file_extension": ".py",
  "interpreter": {
   "hash": "29864609ce42acb949f1cb2f5c54bbb80a5cac9b20d76f096c9b799bd2af5ed7"
  },
  "kernelspec": {
   "display_name": "Python 3.9.4 64-bit ('venv3')",
   "name": "python3"
  },
  "language_info": {
   "codemirror_mode": {
    "name": "ipython",
    "version": 3
   },
   "file_extension": ".py",
   "mimetype": "text/x-python",
   "name": "python",
   "nbconvert_exporter": "python",
   "pygments_lexer": "ipython3",
   "version": "3.9.4"
  },
  "metadata": {
   "interpreter": {
    "hash": "29864609ce42acb949f1cb2f5c54bbb80a5cac9b20d76f096c9b799bd2af5ed7"
   }
  },
  "mimetype": "text/x-python",
  "name": "python",
  "npconvert_exporter": "python",
  "pygments_lexer": "ipython3",
  "version": 3
 },
 "nbformat": 4,
 "nbformat_minor": 2
}
