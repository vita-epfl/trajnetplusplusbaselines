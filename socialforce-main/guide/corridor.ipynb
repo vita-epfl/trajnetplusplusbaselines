{
 "cells": [
  {
   "cell_type": "code",
   "execution_count": null,
   "metadata": {
    "tags": [
     "remove-cell"
    ]
   },
   "outputs": [],
   "source": [
    "%matplotlib inline\n",
    "%config InlineBackend.figure_format ='retina'\n",
    "\n",
    "import IPython\n",
    "import numpy as np\n",
    "import torch\n",
    "import socialforce"
   ]
  },
  {
   "cell_type": "markdown",
   "metadata": {},
   "source": [
    "(corridor)=\n",
    "# Corridor\n",
    "\n",
    "We want to qualitatively study the impact of non-standard Social Force potentials."
   ]
  },
  {
   "cell_type": "code",
   "execution_count": null,
   "metadata": {},
   "outputs": [],
   "source": [
    "def initial_state_corridor(n):\n",
    "    _ = torch.manual_seed(42)\n",
    "\n",
    "    # first n people go right, second n people go left\n",
    "    state = torch.zeros((n * 2, 6))\n",
    "\n",
    "    # positions\n",
    "    state[:n, 0:2] = ((torch.rand((n, 2)) - 0.5) * 2.0) * torch.tensor([25.0, 4.5])\n",
    "    state[n:, 0:2] = ((torch.rand((n, 2)) - 0.5) * 2.0) * torch.tensor([25.0, 4.5])\n",
    "\n",
    "    # velocity\n",
    "    state[:n, 2] = torch.normal(torch.full((n,), 1.34), 0.26)\n",
    "    state[n:, 2] = torch.normal(torch.full((n,), -1.34), 0.26)\n",
    "\n",
    "    # x destination\n",
    "    state[:n, 4] = 100.0\n",
    "    state[n:, 4] = -100.0\n",
    "\n",
    "    return state\n",
    "\n",
    "initial_state = initial_state_corridor(60)"
   ]
  },
  {
   "cell_type": "markdown",
   "metadata": {},
   "source": [
    "The space is just two walls at $y=5.0m$ and $y=-5.0m$. To avoid boundary effects,\n",
    "the walls extend beyond the periodic boundaries at $x=-25m$ and $x=25m$."
   ]
  },
  {
   "cell_type": "code",
   "execution_count": null,
   "metadata": {},
   "outputs": [],
   "source": [
    "upper_wall = torch.stack([torch.linspace(-30, 30, 600), torch.full((600,), 5)], -1)\n",
    "lower_wall = torch.stack([torch.linspace(-30, 30, 600), torch.full((600,), -5)], -1)\n",
    "ped_space = socialforce.potentials.PedSpacePotential([upper_wall, lower_wall])"
   ]
  },
  {
   "cell_type": "markdown",
   "metadata": {},
   "source": [
    "\n",
    "## Reference Potential\n",
    "\n",
    "Standard SF:"
   ]
  },
  {
   "cell_type": "code",
   "execution_count": null,
   "metadata": {},
   "outputs": [],
   "source": [
    "ped_ped = socialforce.potentials.PedPedPotential()"
   ]
  },
  {
   "cell_type": "code",
   "execution_count": null,
   "metadata": {
    "tags": [
     "hide-input"
    ]
   },
   "outputs": [],
   "source": [
    "# HIDE CODE\n",
    "simulator = socialforce.Simulator(ped_ped=ped_ped, ped_space=ped_space,\n",
    "                                  oversampling=2, delta_t=0.08)\n",
    "simulator.integrator = socialforce.simulator.PeriodicBoundary(\n",
    "    simulator.integrator, x_boundary=[-25.0, 25.0])\n",
    "\n",
    "with torch.no_grad():\n",
    "    states_sf = simulator.run(initial_state, 250)\n",
    "\n",
    "with socialforce.show.track_canvas(ncols=2, figsize=(12, 2), tight_layout=False) as (ax1, ax2):\n",
    "    socialforce.show.states(ax1, states_sf[0:1], monochrome=True)\n",
    "    socialforce.show.space(ax1, ped_space)\n",
    "    ax1.text(0.1, 0.1, '$t = 0s$', transform=ax1.transAxes)\n",
    "    ax1.set_xlim(-25, 25)\n",
    "\n",
    "    socialforce.show.states(ax2, states_sf[249:250], monochrome=True)\n",
    "    socialforce.show.space(ax2, ped_space)\n",
    "    ax2.text(0.1, 0.1, '$t = 20s$', transform=ax2.transAxes)\n",
    "    ax2.set_xlim(-25, 25)"
   ]
  },
  {
   "cell_type": "code",
   "execution_count": null,
   "metadata": {
    "tags": [
     "hide-input"
    ]
   },
   "outputs": [],
   "source": [
    "# HIDE CODE\n",
    "with socialforce.show.track_canvas(figsize=(6, 2), tight_layout=False, show=False, dpi=130) as ax:\n",
    "    ax.set_xlim(-25, 25)\n",
    "    socialforce.show.space(ax, ped_space)\n",
    "    video = socialforce.show.state_animation(ax, states_sf, delta_t=0.08).to_html5_video()\n",
    "\n",
    "IPython.display.HTML(video)"
   ]
  },
  {
   "cell_type": "markdown",
   "metadata": {},
   "source": [
    "## Diamond Potential"
   ]
  },
  {
   "cell_type": "code",
   "execution_count": null,
   "metadata": {},
   "outputs": [],
   "source": [
    "ped_ped = socialforce.potentials.PedPedPotentialDiamond(sigma=0.5)"
   ]
  },
  {
   "cell_type": "code",
   "execution_count": null,
   "metadata": {
    "tags": [
     "hide-input"
    ]
   },
   "outputs": [],
   "source": [
    "# HIDE CODE\n",
    "simulator = socialforce.Simulator(ped_ped=ped_ped, ped_space=ped_space,\n",
    "                                  oversampling=2, delta_t=0.08)\n",
    "simulator.integrator = socialforce.simulator.PeriodicBoundary(\n",
    "    simulator.integrator, x_boundary=[-25.0, 25.0])\n",
    "\n",
    "with torch.no_grad():\n",
    "    states_diamond = simulator.run(initial_state, 250)\n",
    "\n",
    "with socialforce.show.track_canvas(ncols=2, figsize=(12, 2), tight_layout=False) as (ax1, ax2):\n",
    "    socialforce.show.states(ax1, states_diamond[0:1], monochrome=True)\n",
    "    socialforce.show.space(ax1, ped_space)\n",
    "    ax1.text(0.1, 0.1, '$t = 0s$', transform=ax1.transAxes)\n",
    "    ax1.set_xlim(-25, 25)\n",
    "\n",
    "    socialforce.show.states(ax2, states_diamond[249:250], monochrome=True)\n",
    "    socialforce.show.space(ax2, ped_space)\n",
    "    ax2.text(0.1, 0.1, '$t = 20s$', transform=ax2.transAxes)\n",
    "    ax2.set_xlim(-25, 25)"
   ]
  },
  {
   "cell_type": "code",
   "execution_count": null,
   "metadata": {
    "tags": [
     "hide-input"
    ]
   },
   "outputs": [],
   "source": [
    "# HIDE CODE\n",
    "with socialforce.show.track_canvas(figsize=(6, 2), tight_layout=False, show=False, dpi=130) as ax:\n",
    "    ax.set_xlim(-25, 25)\n",
    "    socialforce.show.space(ax, ped_space)\n",
    "    video = socialforce.show.state_animation(ax, states_diamond, delta_t=0.08).to_html5_video()\n",
    "\n",
    "IPython.display.HTML(video)"
   ]
  },
  {
   "cell_type": "markdown",
   "metadata": {},
   "source": [
    "## Asymmetric Diamond"
   ]
  },
  {
   "cell_type": "code",
   "execution_count": null,
   "metadata": {},
   "outputs": [],
   "source": [
    "ped_ped = socialforce.potentials.PedPedPotentialDiamond(sigma=0.5, asymmetry_angle=-20.0)"
   ]
  },
  {
   "cell_type": "code",
   "execution_count": null,
   "metadata": {
    "tags": [
     "hide-input"
    ]
   },
   "outputs": [],
   "source": [
    "# HIDE CODE\n",
    "simulator = socialforce.Simulator(ped_ped=ped_ped, ped_space=ped_space,\n",
    "                                  oversampling=2, delta_t=0.08)\n",
    "simulator.integrator = socialforce.simulator.PeriodicBoundary(\n",
    "    simulator.integrator, x_boundary=[-25.0, 25.0])\n",
    "\n",
    "with torch.no_grad():\n",
    "    states_diamond_sd = simulator.run(initial_state, 500)\n",
    "\n",
    "with socialforce.show.track_canvas(ncols=2, figsize=(12, 2), tight_layout=False) as (ax1, ax2):\n",
    "    socialforce.show.states(ax1, states_diamond_sd[0:1], monochrome=True)\n",
    "    socialforce.show.space(ax1, ped_space)\n",
    "    ax1.text(0.1, 0.1, '$t = 0s$', transform=ax1.transAxes)\n",
    "    ax1.set_xlim(-25, 25)\n",
    "\n",
    "    socialforce.show.states(ax2, states_diamond_sd[499:500], monochrome=True)\n",
    "    socialforce.show.space(ax2, ped_space)\n",
    "    ax2.text(0.1, 0.1, '$t = 40s$', transform=ax2.transAxes)\n",
    "    ax2.set_xlim(-25, 25)"
   ]
  },
  {
   "cell_type": "code",
   "execution_count": null,
   "metadata": {
    "tags": [
     "hide-input"
    ]
   },
   "outputs": [],
   "source": [
    "# HIDE CODE\n",
    "with socialforce.show.track_canvas(figsize=(6, 2), tight_layout=False, show=False, dpi=130) as ax:\n",
    "    ax.set_xlim(-25, 25)\n",
    "    socialforce.show.space(ax, ped_space)\n",
    "    video = socialforce.show.state_animation(ax, states_diamond_sd, delta_t=0.08).to_html5_video()\n",
    "\n",
    "IPython.display.HTML(video)"
   ]
  },
  {
   "cell_type": "markdown",
   "metadata": {},
   "source": [
    "## Speed Analysis"
   ]
  },
  {
   "cell_type": "code",
   "execution_count": null,
   "metadata": {
    "tags": [
     "hide-input"
    ]
   },
   "outputs": [],
   "source": [
    "# HIDE CODE\n",
    "def relative_speeds(states):\n",
    "    speeds = np.linalg.norm(states[:, :, 2:4], axis=-1)\n",
    "    preferred = states[:, :, 9]\n",
    "    relative = speeds / preferred\n",
    "\n",
    "    # ignore the first 50\n",
    "    relative = relative[50:]\n",
    "    return relative.reshape(-1)\n",
    "\n",
    "def median_speed(states):\n",
    "    speeds = np.linalg.norm(states[:, :, 2:4], axis=-1)\n",
    "\n",
    "    # ignore the first 50\n",
    "    speeds = speeds[50:]\n",
    "    return np.median(speeds)\n",
    "\n",
    "with socialforce.show.canvas() as ax:\n",
    "    r_sf = relative_speeds(states_sf)\n",
    "    r_diamond = relative_speeds(states_diamond)\n",
    "    r_diamond_sd = relative_speeds(states_diamond_sd)\n",
    "    ax.hist([r_sf, r_diamond, r_diamond_sd], bins=30, range=(0.8, 1.35), density=True, \n",
    "            label=[f'Social Force, $v_{{median}}$ = {median_speed(states_sf):.2f}m/s', \n",
    "                   f'diamond, $v_{{median}}$ = {median_speed(states_diamond):.2f}m/s',\n",
    "                   f'speed-dependent diamond, $v_{{median}}$ = {median_speed(states_diamond_sd):.2f}m/s'])\n",
    "    ax.legend()\n",
    "    ax.set_xlabel('$v / v_{preferred}$ [m/s]')"
   ]
  },
  {
   "cell_type": "markdown",
   "metadata": {},
   "source": [
    "The simulation with standard social force potential leads to pedestrians that\n",
    "are above their preferred speed whereas in the simulation with the diamond\n",
    "potential the median speed as at the preferred speed of $1.34m/s$.\n",
    "This is a consequence of the asymmetric nature of the Social Force: \n",
    "the force experianced by pedestrian $\\alpha$ due $\\beta$ is different \n",
    "(not just opposite) from the force experience by $\\beta$ from $\\alpha$.\n",
    "When pedestrian $\\alpha$ walks in front of $\\beta$, $\\beta$ will feel almost no\n",
    "force to slow down as the potential of $\\alpha$ is shifted more towards the front.\n",
    "Pedestrian $\\alpha$ however will be in the range of the potential from $\\beta$\n",
    "who is behind. That force will be halfed by the field-of-view modulation, but\n",
    "that is still a stronger force than what $\\beta$ experiences. \n",
    "\n",
    "In this corridor example with the Social Force pedestrian-pedestrian potential,\n",
    "pedestrians that are in front tend to get pushed to accelerate more than the\n",
    "pedestrians behind to slow down. There is no such asymmetry in the diamond \n",
    "potential."
   ]
  },
  {
   "cell_type": "markdown",
   "metadata": {},
   "source": [
    "## Asymmetry Analysis"
   ]
  },
  {
   "cell_type": "code",
   "execution_count": null,
   "metadata": {
    "tags": [
     "hide-input"
    ]
   },
   "outputs": [],
   "source": [
    "# HIDE CODE\n",
    "def x2(states):\n",
    "    x2_coordinates = np.copy(states[:, :, 1])\n",
    "    x2_coordinates[states[:, :, 6] < 0.0] *= -1.0\n",
    "\n",
    "    # only take last ones\n",
    "    x2_coordinates = x2_coordinates[-1]\n",
    "    return x2_coordinates.reshape(-1)\n",
    "\n",
    "def mean_x2(states):\n",
    "    return np.mean(x2(states))\n",
    "\n",
    "with socialforce.show.canvas() as ax:\n",
    "    x2_sf = x2(states_sf)\n",
    "    x2_diamond = x2(states_diamond)\n",
    "    x2_diamond_sd = x2(states_diamond_sd)\n",
    "    ax.hist([x2_sf, x2_diamond, x2_diamond_sd], bins=6, range=(-5.0, 5.0), density=True, \n",
    "            label=[f'Social Force, $\\\\overline{{x}}_2$ = {mean_x2(states_sf):.1f}m', \n",
    "                   f'diamond, $\\\\overline{{x}}_2$ = {mean_x2(states_diamond):.1f}m',\n",
    "                   f'speed-dependent diamond, $\\\\overline{{x}}_2$ = {mean_x2(states_diamond_sd):.1f}m'],\n",
    "            orientation='horizontal')\n",
    "    ax.legend()\n",
    "    ax.set_ylabel('$x_2$ [m]')"
   ]
  },
  {
   "cell_type": "code",
   "execution_count": null,
   "metadata": {},
   "outputs": [],
   "source": []
  }
 ],
 "metadata": {
  "file_extension": ".py",
  "kernelspec": {
   "display_name": "Python 3",
   "language": "python",
   "name": "python3"
  },
  "language_info": {
   "codemirror_mode": {
    "name": "ipython",
    "version": 3
   },
   "file_extension": ".py",
   "mimetype": "text/x-python",
   "name": "python",
   "nbconvert_exporter": "python",
   "pygments_lexer": "ipython3",
   "version": "3.9.2"
  },
  "metadata": {
   "interpreter": {
    "hash": "29864609ce42acb949f1cb2f5c54bbb80a5cac9b20d76f096c9b799bd2af5ed7"
   }
  },
  "mimetype": "text/x-python",
  "name": "python",
  "npconvert_exporter": "python",
  "pygments_lexer": "ipython3",
  "version": 3
 },
 "nbformat": 4,
 "nbformat_minor": 2
}
