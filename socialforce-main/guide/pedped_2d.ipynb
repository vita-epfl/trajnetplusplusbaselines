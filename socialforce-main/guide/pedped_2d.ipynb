{
 "cells": [
  {
   "cell_type": "code",
   "execution_count": null,
   "metadata": {
    "tags": [
     "remove-cell"
    ]
   },
   "outputs": [],
   "source": [
    "%matplotlib inline\n",
    "%config InlineBackend.figure_format ='retina'\n",
    "\n",
    "import torch\n",
    "import socialforce"
   ]
  },
  {
   "cell_type": "markdown",
   "metadata": {},
   "source": [
    "(pedped-2d)=\n",
    "# 2D\n",
    "\n",
    "## Parametric"
   ]
  },
  {
   "cell_type": "code",
   "execution_count": null,
   "metadata": {},
   "outputs": [],
   "source": [
    "V = socialforce.potentials.PedPedPotential2D(asymmetry=-1.0)\n",
    "with socialforce.show.canvas(figsize=(12, 6), ncols=2) as (ax1, ax2):\n",
    "    socialforce.show.potential_2d(V, ax1)\n",
    "    socialforce.show.potential_2d_grad(V, ax2)"
   ]
  },
  {
   "cell_type": "markdown",
   "metadata": {},
   "source": [
    "## Asymmetry\n",
    "\n",
    "We use a multiplicative function to make a symmetric potential asymmetric.\n",
    "Qualitativly, we would like an exponential function, but one that does not grow\n",
    "exponentially at large distances. We use a softplus function normalized such\n",
    "that it is one at the origin:\n",
    "\n",
    "\\begin{align}\n",
    "    f_\\textrm{asymmetry}(x_{\\perp}) &= \\frac{1}{\\ln 2} \\ln(1 + \\exp(\\textrm{asymmetry} \\cdot x_{\\perp}))\n",
    "\\end{align}"
   ]
  },
  {
   "cell_type": "code",
   "execution_count": null,
   "metadata": {
    "tags": [
     "hide-input"
    ]
   },
   "outputs": [],
   "source": [
    "# HIDE CODE\n",
    "asymmetry_factor = socialforce.potentials.PedPedPotential2D.asymmetry_factor\n",
    "\n",
    "x = torch.linspace(-5, 5, 300)\n",
    "with socialforce.show.canvas() as ax:\n",
    "    ax.plot(x, asymmetry_factor(0.0, x), label='no asymmetry')\n",
    "    ax.plot(x, asymmetry_factor(1.0, x), label='asymmetry = 1.0')\n",
    "    ax.plot(x, asymmetry_factor(0.5, x), label='asymmetry = 0.5')\n",
    "    ax.plot(x, asymmetry_factor(-1.0, x), label='asymmetry = -1.0')\n",
    "    ax.legend()\n",
    "    ax.set_xlabel('$x_{\\\\perp}$')\n",
    "    ax.set_ylabel('asymmetry factor')"
   ]
  },
  {
   "cell_type": "markdown",
   "metadata": {},
   "source": [
    "## Fitting to Circle and ParallelOvertake Scenarios\n",
    "\n",
    "The preferred speed needs to be varied. Otherwise the symmetry of the problem creates unrealistic scenarios where the two pedestrians get stuck."
   ]
  },
  {
   "cell_type": "code",
   "execution_count": null,
   "metadata": {},
   "outputs": [],
   "source": [
    "circle = socialforce.scenarios.Circle(ped_ped=V)\n",
    "parallel = socialforce.scenarios.ParallelOvertake(ped_ped=V)\n",
    "scenarios = circle.generate(5) + parallel.generate(5)"
   ]
  },
  {
   "cell_type": "code",
   "execution_count": null,
   "metadata": {},
   "outputs": [],
   "source": [
    "true_experience = socialforce.Trainer.scenes_to_experience(scenarios)\n",
    "V = socialforce.potentials.PedPedPotentialMLP2D()\n",
    "\n",
    "with socialforce.show.canvas(figsize=(12, 6), ncols=2) as (ax1, ax2):\n",
    "    socialforce.show.potential_2d(V, ax1)\n",
    "    socialforce.show.potential_2d_grad(V, ax2)"
   ]
  },
  {
   "cell_type": "code",
   "execution_count": null,
   "metadata": {},
   "outputs": [],
   "source": [
    "simulator = socialforce.Simulator(ped_ped=V)\n",
    "opt = torch.optim.SGD(V.parameters(), lr=1.0)\n",
    "socialforce.Trainer(simulator, opt).loop(20, true_experience, log_interval=5)"
   ]
  },
  {
   "cell_type": "code",
   "execution_count": null,
   "metadata": {},
   "outputs": [],
   "source": [
    "with socialforce.show.canvas(figsize=(12, 6), ncols=2) as (ax1, ax2):\n",
    "    socialforce.show.potential_2d(V, ax1)\n",
    "    socialforce.show.potential_2d_grad(V, ax2)"
   ]
  },
  {
   "cell_type": "code",
   "execution_count": null,
   "metadata": {},
   "outputs": [],
   "source": []
  }
 ],
 "metadata": {
  "file_extension": ".py",
  "kernelspec": {
   "display_name": "Python 3",
   "language": "python",
   "name": "python3"
  },
  "language_info": {
   "codemirror_mode": {
    "name": "ipython",
    "version": 3
   },
   "file_extension": ".py",
   "mimetype": "text/x-python",
   "name": "python",
   "nbconvert_exporter": "python",
   "pygments_lexer": "ipython3",
   "version": "3.9.2"
  },
  "metadata": {
   "interpreter": {
    "hash": "29864609ce42acb949f1cb2f5c54bbb80a5cac9b20d76f096c9b799bd2af5ed7"
   }
  },
  "mimetype": "text/x-python",
  "name": "python",
  "npconvert_exporter": "python",
  "pygments_lexer": "ipython3",
  "version": 3
 },
 "nbformat": 4,
 "nbformat_minor": 2
}
