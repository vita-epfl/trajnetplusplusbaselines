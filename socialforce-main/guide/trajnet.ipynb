{
 "cells": [
  {
   "cell_type": "code",
   "execution_count": null,
   "metadata": {
    "tags": [
     "remove-cell"
    ]
   },
   "outputs": [],
   "source": [
    "%matplotlib inline\n",
    "%config InlineBackend.figure_format ='retina'\n",
    "\n",
    "import copy\n",
    "\n",
    "import torch\n",
    "import socialforce\n",
    "\n",
    "_ = torch.manual_seed(43)"
   ]
  },
  {
   "cell_type": "markdown",
   "metadata": {},
   "source": [
    "(trajnet)=\n",
    "# TrajNet++\n",
    "\n",
    "[TrajNet++ is a pedestrian forecasting challenge](https://www.aicrowd.com/challenges/trajnet-a-trajectory-forecasting-challenge) {cite}`kothari2020human`.\n",
    "This notebook walks through a first attempt to fit to real-world data\n",
    "from this challenge {cite}`lerner2007crowds`."
   ]
  },
  {
   "cell_type": "markdown",
   "metadata": {},
   "source": [
    "## Synthetic Data"
   ]
  },
  {
   "cell_type": "code",
   "execution_count": null,
   "metadata": {},
   "outputs": [],
   "source": [
    "circle = socialforce.scenarios.Circle()\n",
    "synthetic_scenarios = circle.generate(1)\n",
    "synthetic_experience = socialforce.Trainer.scenes_to_experience(synthetic_scenarios)\n",
    "\n",
    "with socialforce.show.track_canvas() as ax:\n",
    "    socialforce.show.states(ax, synthetic_scenarios[0])"
   ]
  },
  {
   "cell_type": "code",
   "execution_count": null,
   "metadata": {},
   "outputs": [],
   "source": [
    "!ls ../data-trajnet/train/real_data/\n",
    "trajnet_scenes = list(socialforce.trajnet.Reader('../data-trajnet/train/real_data/crowds_students001.ndjson').scenes())[:2]\n"
   ]
  },
  {
   "cell_type": "code",
   "execution_count": null,
   "metadata": {},
   "outputs": [],
   "source": [
    "V = socialforce.potentials.PedPedPotentialMLP()\n",
    "initial_state_dict = copy.deepcopy(V.state_dict())\n",
    "\n",
    "simulator = socialforce.Simulator(ped_ped=V) "
   ]
  },
  {
   "cell_type": "code",
   "execution_count": null,
   "metadata": {},
   "outputs": [],
   "source": [
    "def trajnet_to_socialforce_scenario(pxy):\n",
    "    pxy = torch.from_numpy(pxy)\n",
    "    velocities = (pxy[1:] - pxy[:-1]) * 2.5  # convert to m/s with FPS\n",
    "    states = torch.full((pxy.shape[0], pxy.shape[1], 4), float('nan'))\n",
    "    states[:, :, :2] = pxy\n",
    "    states[:-1, :, 2:4] = velocities\n",
    "    states[-1, :, 2:4] = velocities[-1]\n",
    "\n",
    "    return torch.stack([simulator.normalize_state(state) for state in states], dim=0)\n",
    "\n",
    "\n",
    "scenarios = [\n",
    "    trajnet_to_socialforce_scenario(pxy)\n",
    "    for _, pxy in trajnet_scenes\n",
    "]\n",
    "with socialforce.show.track_canvas() as ax:\n",
    "    socialforce.show.states(ax, scenarios[0])"
   ]
  },
  {
   "cell_type": "code",
   "execution_count": null,
   "metadata": {},
   "outputs": [],
   "source": [
    "true_experience = socialforce.Trainer.scenes_to_experience(scenarios)\n",
    "print(true_experience[0][0][0], true_experience[0][1][0])"
   ]
  },
  {
   "cell_type": "markdown",
   "metadata": {},
   "source": [
    "## MLP\n",
    "\n",
    "We infer the parameters of an MLP to approximate the 1D scalar \n",
    "function $\\textrm{SF}(b)$ above from synthetic observations.\n",
    "The `PedPedPotentialMLP` is a two-layer MLP with softplus activations:\n",
    "\\begin{align}\n",
    "    \\textrm{MLP}(b) &= \\textrm{Softplus} \\;\\; L_{1\\times5} \\;\\; \\textrm{Softplus} \\;\\; L_{5\\times1} \\;\\; b\n",
    "\\end{align}\n",
    "which is written in terms of linear and non-linear operators where\n",
    "the Softplus operator applies the softplus function on its input from the right\n",
    "and $L$ is a linear operator (a matrix) with the subscript indicating the \n",
    "$\\textrm{output features} \\times \\textrm{input features}$.\n",
    "This two-layer MLP with 5 hidden units has 10 parameters.\n"
   ]
  },
  {
   "cell_type": "code",
   "execution_count": null,
   "metadata": {},
   "outputs": [],
   "source": [
    "# moved up"
   ]
  },
  {
   "cell_type": "markdown",
   "metadata": {},
   "source": [
    "## Inference\n",
    "\n",
    "We use a standard optimizer from PyTorch (SGD).\n",
    "You can specify a standard PyTorch loss function for the `Trainer` as well\n",
    "but here the default of a `torch.nn.L1Loss()` is used."
   ]
  },
  {
   "cell_type": "code",
   "execution_count": null,
   "metadata": {
    "tags": [
     "hide-output"
    ]
   },
   "outputs": [],
   "source": [
    "# HIDE OUTPUT\n",
    "# moved up simulator = socialforce.Simulator(ped_ped=V) \n",
    "opt = torch.optim.SGD(V.parameters(), lr=1.0)\n",
    "socialforce.Trainer(simulator, opt).loop(100, synthetic_experience, log_interval=10)\n",
    "synthetic_state_dict = copy.deepcopy(V.state_dict())"
   ]
  },
  {
   "cell_type": "code",
   "execution_count": null,
   "metadata": {},
   "outputs": [],
   "source": [
    "opt = torch.optim.SGD(V.parameters(), lr=0.1)\n",
    "loss = torch.nn.SmoothL1Loss(beta=0.1)\n",
    "socialforce.Trainer(simulator, opt, loss=loss).loop(10, true_experience)\n",
    "final_state_dict = copy.deepcopy(V.state_dict())"
   ]
  },
  {
   "cell_type": "code",
   "execution_count": null,
   "metadata": {
    "tags": [
     "hide-input"
    ]
   },
   "outputs": [],
   "source": [
    "# HIDE CODE\n",
    "with socialforce.show.canvas(ncols=2) as (ax1, ax2):\n",
    "    # V.load_state_dict(initial_state_dict)\n",
    "    # socialforce.show.potential_1d(V, ax1, ax2, label=r'initial MLP($b$)', linestyle='dashed', color='C0')\n",
    "\n",
    "    V.load_state_dict(synthetic_state_dict)\n",
    "    socialforce.show.potential_1d(V, ax1, ax2, label=r'synthetic MLP($b$)', linestyle='dotted', color='C0')\n",
    "\n",
    "    V.load_state_dict(final_state_dict)\n",
    "    socialforce.show.potential_1d(V, ax1, ax2, label=r'TrajNet++ MLP($b$)', color='C0')"
   ]
  },
  {
   "cell_type": "code",
   "execution_count": null,
   "metadata": {},
   "outputs": [],
   "source": []
  }
 ],
 "metadata": {
  "file_extension": ".py",
  "interpreter": {
   "hash": "29864609ce42acb949f1cb2f5c54bbb80a5cac9b20d76f096c9b799bd2af5ed7"
  },
  "kernelspec": {
   "display_name": "Python 3.9.6 64-bit ('venv3': venv)",
   "name": "python3"
  },
  "language_info": {
   "codemirror_mode": {
    "name": "ipython",
    "version": 3
   },
   "file_extension": ".py",
   "mimetype": "text/x-python",
   "name": "python",
   "nbconvert_exporter": "python",
   "pygments_lexer": "ipython3",
   "version": "3.9.7"
  },
  "metadata": {
   "interpreter": {
    "hash": "29864609ce42acb949f1cb2f5c54bbb80a5cac9b20d76f096c9b799bd2af5ed7"
   }
  },
  "mimetype": "text/x-python",
  "name": "python",
  "npconvert_exporter": "python",
  "pygments_lexer": "ipython3",
  "version": 3
 },
 "nbformat": 4,
 "nbformat_minor": 2
}
