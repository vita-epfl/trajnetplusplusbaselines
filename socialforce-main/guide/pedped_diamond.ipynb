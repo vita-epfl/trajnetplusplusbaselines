{
 "cells": [
  {
   "cell_type": "code",
   "execution_count": null,
   "metadata": {
    "tags": [
     "remove-cell"
    ]
   },
   "outputs": [],
   "source": [
    "%matplotlib inline\n",
    "%config InlineBackend.figure_format ='retina'\n",
    "\n",
    "import torch\n",
    "import socialforce\n",
    "\n",
    "_ = torch.manual_seed(42)"
   ]
  },
  {
   "cell_type": "markdown",
   "metadata": {},
   "source": [
    "# Diamond"
   ]
  },
  {
   "cell_type": "markdown",
   "metadata": {},
   "source": [
    "## Parametric\n",
    "\n",
    "This is an extension of the {ref}`pedped-2d` example to study the robustness\n",
    "of the inference process to potentials with gradients that change orientation.\n",
    "We use a modified $V(b)$ potential that could be described as a \"diamond\"\n",
    "of height $V_0$ and with a half-width of $\\sigma$:\n",
    "\\begin{align}\n",
    "    V(b) &= V_0 \\max\\left(0, 1 - \\frac{|x_1| + |x_2|}{2\\sigma} \\right)\n",
    "\\end{align}\n",
    "with its two parameters $V_0$ and $\\sigma$."
   ]
  },
  {
   "cell_type": "code",
   "execution_count": null,
   "metadata": {},
   "outputs": [],
   "source": [
    "socialforce.FieldOfView.out_of_view_factor = 0.0\n",
    "\n",
    "V = socialforce.potentials.PedPedPotentialDiamond(sigma=0.5)\n",
    "with socialforce.show.canvas(figsize=(12, 6), ncols=2) as (ax1, ax2):\n",
    "    socialforce.show.potential_2d(V, ax1)\n",
    "    socialforce.show.potential_2d_grad(V, ax2)"
   ]
  },
  {
   "cell_type": "markdown",
   "metadata": {},
   "source": [
    "## Scenarios\n",
    "\n",
    "Now we use the above parametric potential in a simulation to generate synthetic\n",
    "scenarios according to this potential.\n",
    "We generate {ref}`Circle and ParallelOvertake scenarios <scenarios>`."
   ]
  },
  {
   "cell_type": "code",
   "execution_count": null,
   "metadata": {},
   "outputs": [],
   "source": [
    "circle = socialforce.scenarios.Circle(ped_ped=V)\n",
    "parallel_overtake = socialforce.scenarios.ParallelOvertake(ped_ped=V)\n",
    "parallel_avoidance = socialforce.scenarios.ParallelAvoidance(ped_ped=V)\n",
    "scenarios = circle.generate(50) + parallel_overtake.generate(50) + parallel_avoidance.generate(150)\n",
    "true_experience = socialforce.Trainer.scenes_to_experience(scenarios)"
   ]
  },
  {
   "cell_type": "markdown",
   "metadata": {},
   "source": [
    "All the scenes from a fixed observer:"
   ]
  },
  {
   "cell_type": "code",
   "execution_count": null,
   "metadata": {
    "tags": [
     "hide-input"
    ]
   },
   "outputs": [],
   "source": [
    "# HIDE CODE\n",
    "with socialforce.show.track_canvas() as ax:\n",
    "    socialforce.show.states(ax, scenarios[-1], zorder=10)\n",
    "    for scene in scenarios[:-1]:\n",
    "        socialforce.show.states(ax, scene, alpha=0.1)"
   ]
  },
  {
   "cell_type": "markdown",
   "metadata": {},
   "source": [
    "Parallel Overtake and Avoidance scenes from the perspective of the primary pedestrian:"
   ]
  },
  {
   "cell_type": "code",
   "execution_count": null,
   "metadata": {
    "tags": [
     "hide-input"
    ]
   },
   "outputs": [],
   "source": [
    "# HIDE CODE\n",
    "with socialforce.show.track_canvas() as ax:\n",
    "    socialforce.show.experience(ax, true_experience)"
   ]
  },
  {
   "cell_type": "markdown",
   "metadata": {},
   "source": [
    "From the perspective of the other pedestrian:"
   ]
  },
  {
   "cell_type": "code",
   "execution_count": null,
   "metadata": {},
   "outputs": [],
   "source": [
    "# HIDE CELL\n",
    "with socialforce.show.track_canvas() as ax:\n",
    "    socialforce.show.experience(ax, true_experience, reference_ped=1)"
   ]
  },
  {
   "cell_type": "markdown",
   "metadata": {},
   "source": [
    "## MLP Inference\n",
    "\n",
    "We construct an coordinate-based MLP with Fourier \n",
    "Features {cite}`tancik2020fourier,rahimi2007random`."
   ]
  },
  {
   "cell_type": "code",
   "execution_count": null,
   "metadata": {},
   "outputs": [],
   "source": [
    "V = socialforce.potentials.PedPedPotentialMLP2D(hidden_units=32, n_hidden_layers=3)\n",
    "with socialforce.show.canvas(figsize=(12, 6), ncols=2) as (ax1, ax2):\n",
    "    socialforce.show.potential_2d(V, ax1)\n",
    "    socialforce.show.potential_2d_grad(V, ax2)"
   ]
  },
  {
   "cell_type": "code",
   "execution_count": null,
   "metadata": {},
   "outputs": [],
   "source": [
    "simulator = socialforce.Simulator(ped_ped=V)\n",
    "opt = torch.optim.SGD(V.parameters(), lr=0.03, momentum=0.9, nesterov=True)\n",
    "# socialforce.Trainer(simulator, opt).loop(10, true_experience)  # does not work"
   ]
  },
  {
   "cell_type": "code",
   "execution_count": null,
   "metadata": {},
   "outputs": [],
   "source": [
    "with socialforce.show.canvas(figsize=(12, 6), ncols=2) as (ax1, ax2):\n",
    "    socialforce.show.potential_2d(V, ax1)\n",
    "    socialforce.show.potential_2d_grad(V, ax2)"
   ]
  },
  {
   "cell_type": "markdown",
   "metadata": {},
   "source": [
    "## Fourier Features\n",
    "\n",
    "We construct an coordinate-based MLP with Fourier \n",
    "Features {cite}`tancik2020fourier,rahimi2007random`.\n",
    "This coordinate-based MLP with the Fourier Feature operator FF is:\n",
    "\\begin{align}\n",
    "    \\textrm{MLP}(b, d_{\\perp}, d_{\\parallel}) &= \\textrm{Softplus} \\;\\; L_{1\\times64} \\;\\; \\big[ \\textrm{Softplus} \\;\\; L_{64\\times64} \\big]^3 \\;\\;  \\textrm{Softplus} \\;\\; L_{64\\times192} \\;\\; \\textrm{FF}_{192 \\times 3} \\;\\; (b, d_{\\perp}, d_{\\parallel})\n",
    "\\end{align}\n"
   ]
  },
  {
   "cell_type": "code",
   "execution_count": null,
   "metadata": {},
   "outputs": [],
   "source": [
    "V = socialforce.potentials.PedPedPotentialMLP2D(\n",
    "    hidden_units=64, n_hidden_layers=2, n_fourier_features=64, tanh_range=3.0, fourier_scale=3.0)\n",
    "with socialforce.show.canvas(figsize=(12, 6), ncols=2) as (ax1, ax2):\n",
    "    socialforce.show.potential_2d(V, ax1)\n",
    "    socialforce.show.potential_2d_grad(V, ax2)"
   ]
  },
  {
   "cell_type": "code",
   "execution_count": null,
   "metadata": {
    "tags": [
     "hide-output"
    ]
   },
   "outputs": [],
   "source": [
    "# HIDE OUTPUT\n",
    "simulator = socialforce.Simulator(ped_ped=V)\n",
    "opt = torch.optim.SGD(V.parameters(), lr=0.03, momentum=0.9, nesterov=True)\n",
    "socialforce.Trainer(simulator, opt).loop(10, true_experience)"
   ]
  },
  {
   "cell_type": "code",
   "execution_count": null,
   "metadata": {},
   "outputs": [],
   "source": [
    "with socialforce.show.canvas(figsize=(12, 6), ncols=2) as (ax1, ax2):\n",
    "    socialforce.show.potential_2d(V, ax1)\n",
    "    socialforce.show.potential_2d_grad(V, ax2)"
   ]
  },
  {
   "cell_type": "markdown",
   "metadata": {},
   "source": [
    "## Asymmetric\n",
    "\n",
    "We can redo the above steps with an asymmetric version of the diamond potential.\n",
    "This refines the previous model by a short training on the scenarios\n",
    "generated with the modified potential."
   ]
  },
  {
   "cell_type": "code",
   "execution_count": null,
   "metadata": {},
   "outputs": [],
   "source": [
    "V_asym = socialforce.potentials.PedPedPotentialDiamond(sigma=0.5, asymmetry_angle=-20.0)\n",
    "with socialforce.show.canvas(figsize=(12, 6), ncols=2) as (ax1, ax2):\n",
    "    socialforce.show.potential_2d(V_asym, ax1)\n",
    "    socialforce.show.potential_2d_grad(V_asym, ax2)"
   ]
  },
  {
   "cell_type": "code",
   "execution_count": null,
   "metadata": {},
   "outputs": [],
   "source": [
    "circle_asym = socialforce.scenarios.Circle(ped_ped=V_asym)\n",
    "parallel_overtake_asym = socialforce.scenarios.ParallelOvertake(ped_ped=V_asym, b_center=0.25)\n",
    "parallel_avoidance_asym = socialforce.scenarios.ParallelAvoidance(ped_ped=V_asym, b_center=-0.25)\n",
    "scenarios_asym = circle_asym.generate(50) + parallel_overtake_asym.generate(50) + parallel_avoidance_asym.generate(150)\n",
    "true_experience_asym = socialforce.Trainer.scenes_to_experience(scenarios_asym)"
   ]
  },
  {
   "cell_type": "markdown",
   "metadata": {},
   "source": [
    "From the perspective of the primary pedestrian:"
   ]
  },
  {
   "cell_type": "code",
   "execution_count": null,
   "metadata": {
    "tags": [
     "hide-input"
    ]
   },
   "outputs": [],
   "source": [
    "# HIDE CODE\n",
    "with socialforce.show.track_canvas() as ax:\n",
    "    socialforce.show.experience(ax, true_experience_asym)"
   ]
  },
  {
   "cell_type": "code",
   "execution_count": null,
   "metadata": {
    "tags": [
     "hide-output"
    ]
   },
   "outputs": [],
   "source": [
    "# HIDE OUTPUT\n",
    "socialforce.Trainer(simulator, opt).loop(10, true_experience_asym)"
   ]
  },
  {
   "cell_type": "code",
   "execution_count": null,
   "metadata": {},
   "outputs": [],
   "source": [
    "with socialforce.show.canvas(figsize=(12, 6), ncols=2) as (ax1, ax2):\n",
    "    socialforce.show.potential_2d(V, ax1)\n",
    "    socialforce.show.potential_2d_grad(V, ax2)"
   ]
  },
  {
   "cell_type": "code",
   "execution_count": null,
   "metadata": {},
   "outputs": [],
   "source": []
  }
 ],
 "metadata": {
  "file_extension": ".py",
  "interpreter": {
   "hash": "29864609ce42acb949f1cb2f5c54bbb80a5cac9b20d76f096c9b799bd2af5ed7"
  },
  "kernelspec": {
   "display_name": "Python 3.9.6 64-bit ('venv3': venv)",
   "name": "python3"
  },
  "language_info": {
   "codemirror_mode": {
    "name": "ipython",
    "version": 3
   },
   "file_extension": ".py",
   "mimetype": "text/x-python",
   "name": "python",
   "nbconvert_exporter": "python",
   "pygments_lexer": "ipython3",
   "version": "3.9.7"
  },
  "metadata": {
   "interpreter": {
    "hash": "29864609ce42acb949f1cb2f5c54bbb80a5cac9b20d76f096c9b799bd2af5ed7"
   }
  },
  "mimetype": "text/x-python",
  "name": "python",
  "npconvert_exporter": "python",
  "pygments_lexer": "ipython3",
  "version": 3
 },
 "nbformat": 4,
 "nbformat_minor": 2
}
