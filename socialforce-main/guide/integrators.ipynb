{
 "cells": [
  {
   "cell_type": "markdown",
   "metadata": {},
   "source": [
    "# Integrators\n",
    "\n",
    "A dynamics simulation integrates the differential equations of motion.\n",
    "We have,\n",
    "\\begin{align}\n",
    "    \\frac{dv}{dt} &= a \\\\\n",
    "    \\frac{dx}{dt} &= v\n",
    "\\end{align}\n",
    "where $x$ is position, $v$ is velocity and $a$ is acceleration.\n",
    "There is extensive research on integrators and their properties for dynamic\n",
    "systems. Here, we focus on two commond ones: the simple Euler integrator and\n",
    "the slightly more advanced Leapfrog integrator. The integrators are implemented\n",
    "in separate classes and can be extended, e.g. with Runge-Kutta methods."
   ]
  },
  {
   "cell_type": "markdown",
   "metadata": {},
   "source": [
    "## Euler\n",
    "\n",
    "The Euler integrator is a simple first-order method.\n",
    "\n",
    "\\begin{align}\n",
    "    x_{t+1} &= x_t + v_t \\Delta t \\\\\n",
    "    v_{t+1} &= v_t + a_t \\Delta t \n",
    "\\end{align}\n"
   ]
  },
  {
   "cell_type": "markdown",
   "metadata": {},
   "source": [
    "## Leapfrog\n",
    "\n",
    "Reference {cite}`birdsall2004plasma`.\n",
    "The main integrator used here is the Leapfrog integrator. It has only a very \n",
    "small computational overhead compared to the Euler method.\n",
    "\n",
    "\\begin{align}\n",
    "    x_{t+1} &= x_t + v_t \\Delta t + \\frac{1}{2} a_t \\Delta t^2 \\\\\n",
    "    v_{t+1} &= v_t + \\frac{1}{2}(a_t + a_{t+1}) \\Delta t \n",
    "\\end{align}"
   ]
  }
 ],
 "metadata": {
  "interpreter": {
   "hash": "29864609ce42acb949f1cb2f5c54bbb80a5cac9b20d76f096c9b799bd2af5ed7"
  },
  "kernelspec": {
   "display_name": "Python 3.9.6 64-bit ('venv3': venv)",
   "name": "python3"
  },
  "language_info": {
   "name": "python",
   "nbconvert_exporter": "python",
   "version": "3.9.6"
  },
  "metadata": {
   "interpreter": {
    "hash": "29864609ce42acb949f1cb2f5c54bbb80a5cac9b20d76f096c9b799bd2af5ed7"
   }
  }
 },
 "nbformat": 4,
 "nbformat_minor": 2
}
